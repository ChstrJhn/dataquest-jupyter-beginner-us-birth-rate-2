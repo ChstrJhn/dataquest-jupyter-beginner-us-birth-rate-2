{
 "cells": [
  {
   "cell_type": "markdown",
   "metadata": {},
   "source": [
    "# US Births by Month, Day of Month, and Days of the Week\n",
    "\n",
    "in this Jupyter exercise we will write functions that calculate the total births for month (e.g. 1 = Jan), Day of Month, and Days of the week (e.g. 1 = Monday) using US data from 1994 to 2003."
   ]
  },
  {
   "cell_type": "code",
   "execution_count": 5,
   "metadata": {
    "collapsed": false
   },
   "outputs": [
    {
     "name": "stdout",
     "output_type": "stream",
     "text": [
      "['year,month,date_of_month,day_of_week,births', '1994,1,1,6,8096', '1994,1,2,7,7772', '1994,1,3,1,10142', '1994,1,4,2,11248', '1994,1,5,3,11053', '1994,1,6,4,11406', '1994,1,7,5,11251', '1994,1,8,6,8653', '1994,1,9,7,7910']\n"
     ]
    }
   ],
   "source": [
    "f = open(\"US_births_1994-2003_CDC_NCHS.csv\", 'r')\n",
    "data = f.read()\n",
    "rows = data.split(\"\\n\")\n",
    "print(rows[0:10])"
   ]
  },
  {
   "cell_type": "code",
   "execution_count": 14,
   "metadata": {
    "collapsed": false
   },
   "outputs": [
    {
     "name": "stdout",
     "output_type": "stream",
     "text": [
      "[[1994, 1, 1, 6, 8096], [1994, 1, 2, 7, 7772], [1994, 1, 3, 1, 10142], [1994, 1, 4, 2, 11248], [1994, 1, 5, 3, 11053], [1994, 1, 6, 4, 11406], [1994, 1, 7, 5, 11251], [1994, 1, 8, 6, 8653], [1994, 1, 9, 7, 7910], [1994, 1, 10, 1, 10498]]\n"
     ]
    }
   ],
   "source": [
    "def read_csv(file):\n",
    "    f = open(\"US_births_1994-2003_CDC_NCHS.csv\", 'r')\n",
    "    data = f.read()\n",
    "    string_list = data.split(\"\\n\") \n",
    "    string_list_no_head = string_list[1:len(string_list)]\n",
    "    final_list = []\n",
    "    \n",
    "    for s in string_list_no_head:\n",
    "        string_fields = s.split(\",\")\n",
    "        nums = list(map(int,string_fields))\n",
    "        final_list.append(nums)\n",
    "    return final_list\n",
    "\n",
    "cdc_list = read_csv(\"US_births_1994-2003_CDC_NCHS.csv\")\n",
    "print(cdc_list[0:10])"
   ]
  },
  {
   "cell_type": "code",
   "execution_count": null,
   "metadata": {
    "collapsed": true
   },
   "outputs": [],
   "source": [
    "In this function, we calculate the total births according to months."
   ]
  },
  {
   "cell_type": "code",
   "execution_count": 21,
   "metadata": {
    "collapsed": false
   },
   "outputs": [
    {
     "name": "stdout",
     "output_type": "stream",
     "text": [
      "{1: 3232517, 2: 3018140, 3: 3322069, 4: 3185314, 5: 3350907, 6: 3296530, 7: 3498783, 8: 3525858, 9: 3439698, 10: 3378814, 11: 3171647, 12: 3301860}\n"
     ]
    }
   ],
   "source": [
    "def month_births(input_lst):\n",
    "    births_per_month = {}\n",
    "    \n",
    "    for i in input_lst:\n",
    "        if i[1] in births_per_month:\n",
    "            births_per_month[i[1]] = births_per_month[i[1]] + i[4]\n",
    "        else:\n",
    "            births_per_month[i[1]] = i[4]\n",
    "    return births_per_month\n",
    "\n",
    "cdc_month_births = month_births(cdc_list)\n",
    "print(cdc_month_births)\n"
   ]
  },
  {
   "cell_type": "markdown",
   "metadata": {},
   "source": [
    "In this function, we calculate the total births for days of the week"
   ]
  },
  {
   "cell_type": "code",
   "execution_count": 23,
   "metadata": {
    "collapsed": false
   },
   "outputs": [
    {
     "name": "stdout",
     "output_type": "stream",
     "text": [
      "{1: 5789166, 2: 6446196, 3: 6322855, 4: 6288429, 5: 6233657, 6: 4562111, 7: 4079723}\n"
     ]
    }
   ],
   "source": [
    "def dow_births(input_list):\n",
    "    births_per_dow = {}\n",
    "    \n",
    "    for i in input_list:\n",
    "        if i[3] in births_per_dow:\n",
    "            births_per_dow[i[3]] = births_per_dow[i[3]] + i[4]\n",
    "        else:\n",
    "            births_per_dow[i[3]] = i[4]\n",
    "    return births_per_dow  \n",
    "\n",
    "cdc_day_births = dow_births(cdc_list)\n",
    "print(cdc_day_births)"
   ]
  },
  {
   "cell_type": "code",
   "execution_count": 27,
   "metadata": {
    "collapsed": false
   },
   "outputs": [
    {
     "name": "stdout",
     "output_type": "stream",
     "text": [
      "{1: 3232517, 2: 3018140, 3: 3322069, 4: 3185314, 5: 3350907, 6: 3296530, 7: 3498783, 8: 3525858, 9: 3439698, 10: 3378814, 11: 3171647, 12: 3301860}\n",
      "{1: 1276557, 2: 1288739, 3: 1304499, 4: 1288154, 5: 1299953, 6: 1304474, 7: 1310459, 8: 1312297, 9: 1303292, 10: 1320764, 11: 1314361, 12: 1318437, 13: 1277684, 14: 1320153, 15: 1319171, 16: 1315192, 17: 1324953, 18: 1326855, 19: 1318727, 20: 1324821, 21: 1322897, 22: 1317381, 23: 1293290, 24: 1288083, 25: 1272116, 26: 1284796, 27: 1294395, 28: 1307685, 29: 1223161, 30: 1202095, 31: 746696}\n",
      "{1: 5789166, 2: 6446196, 3: 6322855, 4: 6288429, 5: 6233657, 6: 4562111, 7: 4079723}\n"
     ]
    }
   ],
   "source": [
    "def calc_counts(input_list,column):\n",
    "    data_dict = {}\n",
    "    \n",
    "    for i in input_list:\n",
    "        if i[column] in data_dict:\n",
    "            data_dict[i[column]] = data_dict[i[column]] + i[4]\n",
    "        else:\n",
    "            data_dict[i[column]] = i[4]\n",
    "    return data_dict\n",
    "\n",
    "cdc_month_births = calc_counts(cdc_list,1)\n",
    "print(cdc_month_births)\n",
    "cdc_dom_births = calc_counts(cdc_list,2)\n",
    "print(cdc_dom_births)\n",
    "cdc_dow_births = calc_counts(cdc_list,3)\n",
    "print(cdc_dow_births)\n",
    "    "
   ]
  },
  {
   "cell_type": "code",
   "execution_count": null,
   "metadata": {
    "collapsed": true
   },
   "outputs": [],
   "source": [
    "Finally, to make things dynamic, we make "
   ]
  }
 ],
 "metadata": {
  "anaconda-cloud": {},
  "kernelspec": {
   "display_name": "Python 3",
   "language": "python",
   "name": "python3"
  },
  "language_info": {
   "codemirror_mode": {
    "name": "ipython",
    "version": 3
   },
   "file_extension": ".py",
   "mimetype": "text/x-python",
   "name": "python",
   "nbconvert_exporter": "python",
   "pygments_lexer": "ipython3",
   "version": "3.4.3"
  }
 },
 "nbformat": 4,
 "nbformat_minor": 1
}
